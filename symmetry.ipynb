{
 "cells": [
  {
   "cell_type": "markdown",
   "id": "7f3546a2",
   "metadata": {},
   "source": [
    "<h1>Opérations de symétrie sur ScCuO2</h1>"
   ]
  },
  {
   "cell_type": "markdown",
   "id": "862e966d",
   "metadata": {},
   "source": [
    "<h2>Introduction</h2>"
   ]
  },
  {
   "cell_type": "markdown",
   "id": "c7614f8a",
   "metadata": {},
   "source": [
    "La molécule ScCuO2 présente plusieurs opérations de symétrie qui peuvent lui être appliquées. Dans ce notebook, nous allons explorer trois de ces opérations de symétrie : l'axe de rotation z, le plan de réflexion xy et le centre d'inversion placé à l'origine."
   ]
  },
  {
   "cell_type": "code",
   "execution_count": 144,
   "id": "b05e6e39",
   "metadata": {},
   "outputs": [],
   "source": [
    "from mp_api.client import MPRester\n",
    "from pymatgen.symmetry.analyzer import SpacegroupAnalyzer\n",
    "from jupyter_jsmol import JsmolView\n",
    "from ipywidgets import Layout, widgets, interact\n",
    "from IPython.display import display\n",
    "from jupyter_jsmol.pymatgen import quick_view\n",
    "from pymatgen.core.operations import SymmOp\n",
    "import numpy as np"
   ]
  },
  {
   "cell_type": "code",
   "execution_count": 145,
   "id": "938166d5",
   "metadata": {},
   "outputs": [],
   "source": [
    "mp_key = \"emUreNDiEdgEatR8YwlD3hfzF9Onx8tt\"\n",
    "mp_id = \"mp-4636\""
   ]
  },
  {
   "cell_type": "code",
   "execution_count": 146,
   "id": "5a94ed09",
   "metadata": {},
   "outputs": [
    {
     "data": {
      "application/vnd.jupyter.widget-view+json": {
       "model_id": "ddac1f62421341c7a7aa724930d75497",
       "version_major": 2,
       "version_minor": 0
      },
      "text/plain": [
       "Retrieving MaterialsDoc documents:   0%|          | 0/1 [00:00<?, ?it/s]"
      ]
     },
     "metadata": {},
     "output_type": "display_data"
    }
   ],
   "source": [
    "with MPRester(mp_key) as m:\n",
    "    structure = m.get_structure_by_material_id(mp_id)\n",
    "conv_struc = SpacegroupAnalyzer(structure).get_conventional_standard_structure()\n",
    "analyze_struc = SpacegroupAnalyzer(conv_struc)\n",
    "\n",
    "Sym = analyze_struc.get_symmetry_operations()  #en utilisant la commande print(Sym), j'ai sélectionné les éléments de symétrie que je voulais appliquer à mes atomes et gardé les matrices correspondantes\n",
    "Sites = structure.sites"
   ]
  },
  {
   "cell_type": "code",
   "execution_count": 147,
   "id": "941c9b6b",
   "metadata": {},
   "outputs": [
    {
     "data": {
      "application/vnd.jupyter.widget-view+json": {
       "model_id": "892849c6b455495387a9e5ceaf382273",
       "version_major": 2,
       "version_minor": 0
      },
      "text/plain": [
       "JsmolView(layout=Layout(align_self='stretch', height='400px'))"
      ]
     },
     "metadata": {},
     "output_type": "display_data"
    }
   ],
   "source": [
    "cif_filename = \"structure.cif\"\n",
    "CifWriter(conv_struc).write_file(cif_filename)\n",
    "\n",
    "jsmol_view_original = JsmolView.from_file(cif_filename)\n",
    "display(jsmol_view_original)\n",
    "jsmol_view_original.script('select scandium; color lightsalmon')\n",
    "jsmol_view_original.script('select copper; color palegreen')\n",
    "jsmol_view_original.script('select oxygen; color lightblue')"
   ]
  },
  {
   "cell_type": "code",
   "execution_count": 148,
   "id": "00809243",
   "metadata": {},
   "outputs": [],
   "source": [
    "\n",
    "sites = conv_struc.sites\n",
    "    \n",
    "sc_coord = sites[0].frac_coords\n",
    "cu_coord = sites[4].frac_coords\n",
    "ox_coord = sites[9].frac_coords\n",
    "\n",
    "#je choisis un atome Sc, un atome Cu et un atome O\n",
    "\n",
    "op_sym = SpacegroupAnalyzer(conv_struc).get_point_group_operations()"
   ]
  },
  {
   "cell_type": "markdown",
   "id": "2530d08f",
   "metadata": {},
   "source": [
    "# Opérations de symétrie"
   ]
  },
  {
   "cell_type": "markdown",
   "id": "23eee12d",
   "metadata": {},
   "source": [
    "<h2>Inversion au centre sur Sc</h2>"
   ]
  },
  {
   "cell_type": "markdown",
   "id": "39e4a3ce",
   "metadata": {},
   "source": [
    "Nous allons étudier l'opération d'inversion centrée en l'origine sur l'atome de Sc. L'opération d'inversion peut être définie comme ceci : \n",
    "$\\left [\\begin{matrix}-1 & 0 & 0\\\\0 & -1 & 0\\\\0 & 0 & -1\\end{matrix}\\right]$ \n",
    "$ \\left [\\begin{matrix}x\\\\y \\\\z\\end{matrix}\\right]$ \n",
    "= $ \\left [\\begin{matrix}-x\\\\-y \\\\-z\\end{matrix}\\right]$.\n",
    "\n",
    "On peut remarquer par la suite que la matrice tau est nulle, ce qui signifie qu'il n'y a pas de translation.\n",
    "\n",
    "Le déterminant de la matrice vaut -1. Il s'agit d'une opération de deuxième espèce, qui inverse la chiralité. \n",
    "\n"
   ]
  },
  {
   "cell_type": "code",
   "execution_count": 149,
   "id": "df912c6f",
   "metadata": {},
   "outputs": [
    {
     "name": "stdout",
     "output_type": "stream",
     "text": [
      "Matrice de transformation et vecteur tau\n",
      "Rot:\n",
      "[[-1.  0.  0.]\n",
      " [ 0. -1.  0.]\n",
      " [ 0.  0. -1.]]\n",
      "tau\n",
      "[0. 0. 0.]\n",
      "Position initiale de l'atome Sc\n",
      "[0.33333333 0.66666667 0.16666667]\n",
      "Position de l'atome Sc après avoir appliqué l'opération d'inversion\n",
      "[-0.33333333 -0.66666667 -0.16666667]\n"
     ]
    }
   ],
   "source": [
    "index_op_sym = 2\n",
    "op_1 = op_sym[index_op_sym-1]\n",
    "\n",
    "print(\"Matrice de transformation et vecteur tau\")\n",
    "print(op_1)\n",
    "\n",
    "print(\"Position initiale de l'atome Sc\")\n",
    "print(sc_coord)\n",
    "\n",
    "print(\"Position de l'atome Sc après avoir appliqué l'opération d'inversion\")\n",
    "inverted_sc = op_1.operate(sc_coord)\n",
    "print(inverted_sc)"
   ]
  },
  {
   "cell_type": "code",
   "execution_count": 151,
   "id": "f83a1984",
   "metadata": {},
   "outputs": [
    {
     "data": {
      "application/vnd.jupyter.widget-view+json": {
       "model_id": "151bb73e74ff49c2a87327d2288b191e",
       "version_major": 2,
       "version_minor": 0
      },
      "text/plain": [
       "JsmolView(layout=Layout(align_self='stretch', height='400px'))"
      ]
     },
     "metadata": {},
     "output_type": "display_data"
    }
   ],
   "source": [
    "jsmol_view_inversion = JsmolView.from_file(cif_filename)\n",
    "display(jsmol_view_inversion)\n",
    "jsmol_view_inversion.script('select scandium; color lightsalmon')\n",
    "jsmol_view_inversion.script('select copper; color palegreen')\n",
    "jsmol_view_inversion.script('select oxygen; color lightblue')\n",
    "jsmol_view_inversion.script(f'draw SYMOP {index_op_sym} {{atomno = {1}}}') \n"
   ]
  },
  {
   "cell_type": "markdown",
   "id": "5cd3c2c2",
   "metadata": {},
   "source": [
    "<h2>Roto-réflexion sur Cu</h2>"
   ]
  },
  {
   "cell_type": "markdown",
   "id": "71e3675a",
   "metadata": {},
   "source": [
    "Nous allons étudier l'opération de roto-réflection. On a d'abord une rotation dans le plan (x, y). On transforme x en x-y et y en x. Ensuite, on a une réflexion par rapport au plan xy. On transforme donc z en -z. L'équation associée à cette opération est la suivante : \n",
    "$\\left [\\begin{matrix}1 & -1 & 0\\\\1 & 0 & 0\\\\0 & 0 & -1\\end{matrix}\\right]$ \n",
    "$ \\left [\\begin{matrix}x\\\\y \\\\z\\end{matrix}\\right]$ \n",
    "= $ \\left [\\begin{matrix}x-y\\\\x \\\\-z\\end{matrix}\\right]$.\n",
    "\n",
    "On peut remarquer par la suite que la matrice tau est nulle, ce qui signifie qu'il n'y a pas de translation.\n",
    "\n",
    "Le déterminant de la matrice vaut -1. Il s'agit d'une opération de deuxième espèce, qui inverse la chiralité."
   ]
  },
  {
   "cell_type": "code",
   "execution_count": 152,
   "id": "bd9a406c",
   "metadata": {},
   "outputs": [
    {
     "name": "stdout",
     "output_type": "stream",
     "text": [
      "Matrice de transformation et vecteur tau\n",
      "Rot:\n",
      "[[ 1. -1.  0.]\n",
      " [ 1.  0.  0.]\n",
      " [ 0.  0. -1.]]\n",
      "tau\n",
      "[0. 0. 0.]\n",
      "Position initiale de l'atome Cu\n",
      "[0.66666667 0.33333333 0.33333333]\n",
      "Position de l'atome Cu après avoir appliqué l'opération de roto-réflexion\n",
      "[ 0.33333333  0.66666667 -0.33333333]\n"
     ]
    }
   ],
   "source": [
    "index_op_sym2 = 6\n",
    "op_2 = op_sym[index_op_sym2-1]\n",
    "\n",
    "print(\"Matrice de transformation et vecteur tau\")\n",
    "print(op_2)\n",
    "\n",
    "print(\"Position initiale de l'atome Cu\")\n",
    "print(cu_coord)\n",
    "\n",
    "print(\"Position de l'atome Cu après avoir appliqué l'opération de roto-réflexion\")\n",
    "rotated_cu = op_2.operate(cu_coord)\n",
    "print(rotated_cu)"
   ]
  },
  {
   "cell_type": "code",
   "execution_count": 154,
   "id": "f0f5448e",
   "metadata": {},
   "outputs": [
    {
     "data": {
      "application/vnd.jupyter.widget-view+json": {
       "model_id": "ea174f20bae94c21a485231749eca73e",
       "version_major": 2,
       "version_minor": 0
      },
      "text/plain": [
       "JsmolView(layout=Layout(align_self='stretch', height='400px'))"
      ]
     },
     "metadata": {},
     "output_type": "display_data"
    }
   ],
   "source": [
    "jsmol_view_rotoreflection = JsmolView.from_file(cif_filename)\n",
    "display(jsmol_view_rotoreflection)\n",
    "jsmol_view_rotoreflection.script('select scandium; color lightsalmon')\n",
    "jsmol_view_rotoreflection.script('select copper; color palegreen')\n",
    "jsmol_view_rotoreflection.script('select oxygen; color lightblue')\n",
    "jsmol_view_rotoreflection.script(f'draw SYMOP {index_op_sym2} {{atomno = {2}}}')"
   ]
  },
  {
   "cell_type": "markdown",
   "id": "0aac0649",
   "metadata": {},
   "source": [
    "<h2>Réflexion orthogonale par rapport au plan P: x+y = 0 sur l'atome O</h2>"
   ]
  },
  {
   "cell_type": "markdown",
   "id": "14febce3",
   "metadata": {},
   "source": [
    "Nous allons étudier l'opération de réflexion sur l'atome O. Il s'agit d'une réflexion dite orthogonale par rapport au plan P : x + y = 0. Cette rotation peut être définie comme : \n",
    "$\\left [\\begin{matrix}0 & -1 & 0\\\\-1 & 0 & 0\\\\0 & 0 & 1\\end{matrix}\\right]$ \n",
    "$ \\left [\\begin{matrix}x\\\\y \\\\z\\end{matrix}\\right]$ \n",
    "= $ \\left [\\begin{matrix}-y\\\\-x \\\\z\\end{matrix}\\right]$.\n",
    "\n",
    "On peut remarquer par la suite que la matrice tau est nulle, ce qui signifie qu'il n'y a pas de translation.\n",
    "\n",
    "Le déterminant de la matrice vaut -1. Il s'agit d'une opération de deuxième espèce espèce, qui inverse la chiralité."
   ]
  },
  {
   "cell_type": "code",
   "execution_count": 155,
   "id": "63413d93",
   "metadata": {},
   "outputs": [
    {
     "name": "stdout",
     "output_type": "stream",
     "text": [
      "Matrice de transformation et vecteur tau\n",
      "Rot:\n",
      "[[ 0. -1.  0.]\n",
      " [-1.  0.  0.]\n",
      " [ 0.  0.  1.]]\n",
      "tau\n",
      "[0. 0. 0.]\n",
      "Position initiale de l'atome O\n",
      "[0.66666667 0.33333333 0.44016333]\n",
      "Position de l'atome O après avoir appliqué l'opération de rotation\n",
      "[-0.33333333 -0.66666667  0.44016333]\n"
     ]
    }
   ],
   "source": [
    "index_op_sym3 = 8\n",
    "op_3 = op_sym[index_op_sym3-1]\n",
    "\n",
    "print(\"Matrice de transformation et vecteur tau\")\n",
    "print(op_3)\n",
    "\n",
    "print(\"Position initiale de l'atome O\")\n",
    "print(ox_coord)\n",
    "\n",
    "print(\"Position de l'atome O après avoir appliqué l'opération de rotation\")\n",
    "rotated_o = op_3.operate(ox_coord)\n",
    "print(rotated_o)"
   ]
  },
  {
   "cell_type": "code",
   "execution_count": 156,
   "id": "4d2df43d",
   "metadata": {},
   "outputs": [
    {
     "data": {
      "application/vnd.jupyter.widget-view+json": {
       "model_id": "d557cd79e3834307ba5397549b2d7329",
       "version_major": 2,
       "version_minor": 0
      },
      "text/plain": [
       "JsmolView(layout=Layout(align_self='stretch', height='400px'))"
      ]
     },
     "metadata": {},
     "output_type": "display_data"
    }
   ],
   "source": [
    "jsmol_view_rotation = JsmolView.from_file(cif_filename)\n",
    "display(jsmol_view_rotation)\n",
    "jsmol_view_rotation.script('select scandium; color lightsalmon')\n",
    "jsmol_view_rotation.script('select copper; color palegreen')\n",
    "jsmol_view_rotation.script('select oxygen; color lightblue')\n",
    "jsmol_view_rotation.script(f'draw SYMOP {index_op_sym3} {{atomno = {3}}}')"
   ]
  },
  {
   "cell_type": "code",
   "execution_count": null,
   "id": "45936fd2",
   "metadata": {},
   "outputs": [],
   "source": []
  }
 ],
 "metadata": {
  "kernelspec": {
   "display_name": "Python 3 (ipykernel)",
   "language": "python",
   "name": "python3"
  },
  "language_info": {
   "codemirror_mode": {
    "name": "ipython",
    "version": 3
   },
   "file_extension": ".py",
   "mimetype": "text/x-python",
   "name": "python",
   "nbconvert_exporter": "python",
   "pygments_lexer": "ipython3",
   "version": "3.9.13"
  }
 },
 "nbformat": 4,
 "nbformat_minor": 5
}
