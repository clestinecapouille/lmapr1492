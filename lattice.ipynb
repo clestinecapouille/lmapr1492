{
 "cells": [
  {
   "cell_type": "code",
   "execution_count": 49,
   "id": "b05e6e39",
   "metadata": {},
   "outputs": [],
   "source": [
    "import numpy as np\n",
    "from mp_api.client import MPRester\n",
    "from pymatgen.core.operations import SymmOp\n",
    "from pymatgen.symmetry.analyzer import SpacegroupAnalyzer\n",
    "from pymatgen.electronic_structure.plotter import BSPlotter\n",
    "from pymatgen.phonon.plotter import PhononBSPlotter\n",
    "from jupyter_jsmol.pymatgen import quick_view\n",
    "from lmapr1492 import plot_brillouin_zone, get_plot_bs, get_plot_dos, get_plot_bs_and_dos, get_branch_wavevectors\n",
    "from plotly.subplots import make_subplots\n",
    "import plotly.graph_objects as go"
   ]
  },
  {
   "cell_type": "code",
   "execution_count": 50,
   "id": "938166d5",
   "metadata": {},
   "outputs": [],
   "source": [
    "mp_key = \"emUreNDiEdgEatR8YwlD3hfzF9Onx8tt\"\n",
    "mp_id = \"mp-4636\""
   ]
  },
  {
   "cell_type": "code",
   "execution_count": 51,
   "id": "5a94ed09",
   "metadata": {},
   "outputs": [
    {
     "data": {
      "application/vnd.jupyter.widget-view+json": {
       "model_id": "88c01b4b7fa04eb1b55f0dab0d646cee",
       "version_major": 2,
       "version_minor": 0
      },
      "text/plain": [
       "Retrieving MaterialsDoc documents:   0%|          | 0/1 [00:00<?, ?it/s]"
      ]
     },
     "metadata": {},
     "output_type": "display_data"
    },
    {
     "data": {
      "application/vnd.jupyter.widget-view+json": {
       "model_id": "01d2433869794c69b5bb2667b98742de",
       "version_major": 2,
       "version_minor": 0
      },
      "text/plain": [
       "Retrieving ElectronicStructureDoc documents:   0%|          | 0/1 [00:00<?, ?it/s]"
      ]
     },
     "metadata": {},
     "output_type": "display_data"
    },
    {
     "data": {
      "application/vnd.jupyter.widget-view+json": {
       "model_id": "7947eb2c3a494110ba44d1538d26ec2d",
       "version_major": 2,
       "version_minor": 0
      },
      "text/plain": [
       "Retrieving ElectronicStructureDoc documents:   0%|          | 0/1 [00:00<?, ?it/s]"
      ]
     },
     "metadata": {},
     "output_type": "display_data"
    },
    {
     "data": {
      "application/vnd.jupyter.widget-view+json": {
       "model_id": "a533303d6e364ff1a7e6ea0575fa783c",
       "version_major": 2,
       "version_minor": 0
      },
      "text/plain": [
       "Retrieving PhononBSDOSDoc documents:   0%|          | 0/1 [00:00<?, ?it/s]"
      ]
     },
     "metadata": {},
     "output_type": "display_data"
    },
    {
     "data": {
      "application/vnd.jupyter.widget-view+json": {
       "model_id": "c46156c463f0476680fb370c5c989ae7",
       "version_major": 2,
       "version_minor": 0
      },
      "text/plain": [
       "Retrieving PhononBSDOSDoc documents:   0%|          | 0/1 [00:00<?, ?it/s]"
      ]
     },
     "metadata": {},
     "output_type": "display_data"
    }
   ],
   "source": [
    "with MPRester(mp_key) as m:\n",
    "    prim_struc = m.get_structure_by_material_id(mp_id)\n",
    "    el_bs = m.get_bandstructure_by_material_id(mp_id)\n",
    "    el_dos = m.get_dos_by_material_id(mp_id)\n",
    "    ph_bs = m.get_phonon_bandstructure_by_material_id(mp_id)\n",
    "    ph_dos = m.get_phonon_dos_by_material_id(mp_id)\n",
    "conv_struc = SpacegroupAnalyzer(prim_struc).get_conventional_standard_structure()\n",
    "symmops = SpacegroupAnalyzer(conv_struc).get_space_group_operations()"
   ]
  },
  {
   "cell_type": "markdown",
   "id": "2530d08f",
   "metadata": {},
   "source": [
    "# Structure symmetry"
   ]
  },
  {
   "cell_type": "code",
   "execution_count": 52,
   "id": "5d80e7d8",
   "metadata": {},
   "outputs": [],
   "source": [
    "i_atom = 7\n",
    "i_symmop = 2"
   ]
  },
  {
   "cell_type": "code",
   "execution_count": 53,
   "id": "76b6f3a9",
   "metadata": {},
   "outputs": [
    {
     "data": {
      "application/vnd.jupyter.widget-view+json": {
       "model_id": "471b690051c54bdcafaf3a29781bde46",
       "version_major": 2,
       "version_minor": 0
      },
      "text/plain": [
       "JsmolView(layout=Layout(align_self='stretch', height='400px'))"
      ]
     },
     "metadata": {},
     "output_type": "display_data"
    }
   ],
   "source": [
    "view = quick_view(prim_struc, \"packed\", conventional = True)\n",
    "display(view)"
   ]
  },
  {
   "cell_type": "code",
   "execution_count": 54,
   "id": "775d8ab3",
   "metadata": {},
   "outputs": [],
   "source": [
    "view.script('select scandium; color lightsalmon')\n",
    "view.script('select copper; color white')\n",
    "view.script('select oxygen; color pink')\n",
    "view.script('draw SYMOP ' + str(i_symmop) + ' {atomno = ' + str(i_atom) + '}')"
   ]
  },
  {
   "cell_type": "code",
   "execution_count": 55,
   "id": "b5ffb996",
   "metadata": {},
   "outputs": [
    {
     "name": "stdout",
     "output_type": "stream",
     "text": [
      "Vecteurs de base du réseau direct (a, b, c) :\n",
      "[[ 3.10071979e+00 -2.47365000e-03  5.12053049e+00]\n",
      " [ 1.42765013e+00  2.75250708e+00  5.12053049e+00]\n",
      " [-4.07140000e-03 -2.47365000e-03  5.98617335e+00]]\n",
      "Vecteurs de base du réseau réciproque (a*, b*, c*) :\n",
      "[[ 2.02396889e+00 -1.05152981e+00  9.42049270e-04]\n",
      " [ 2.62826634e-04  2.28082359e+00  9.42677235e-04]\n",
      " [-1.73151354e+00 -1.05152923e+00  1.04800415e+00]]\n"
     ]
    }
   ],
   "source": [
    "#d'abord, on cherche les vecteurs de base du réseau direct\n",
    "direct_lattice = prim_struc.lattice.matrix \n",
    "print(\"Vecteurs de base du réseau direct (a, b, c) :\")\n",
    "print(direct_lattice)\n",
    "\n",
    "#ensuite, les vecteurs de base du réseau réciproque\n",
    "reciprocal_lattice = prim_struc.lattice.reciprocal_lattice.matrix\n",
    "print(\"Vecteurs de base du réseau réciproque (a*, b*, c*) :\")\n",
    "print(reciprocal_lattice)\n"
   ]
  },
  {
   "cell_type": "code",
   "execution_count": 56,
   "id": "03473745",
   "metadata": {},
   "outputs": [
    {
     "name": "stdout",
     "output_type": "stream",
     "text": [
      "Type de maille :  rhombohedral\n",
      "Système cristallin :  trigonal\n"
     ]
    }
   ],
   "source": [
    "spacegroup_analyzer = SpacegroupAnalyzer(prim_struc)\n",
    "\n",
    "#on trouve le type de maille\n",
    "lattice_type = spacegroup_analyzer.get_lattice_type()\n",
    "print(\"Type de maille : \", lattice_type)\n",
    "\n",
    "#le système cristallin\n",
    "crystal_system = spacegroup_analyzer.get_crystal_system()\n",
    "print(\"Système cristallin : \", crystal_system)\n"
   ]
  },
  {
   "cell_type": "code",
   "execution_count": 57,
   "id": "7df9ec15",
   "metadata": {},
   "outputs": [
    {
     "name": "stdout",
     "output_type": "stream",
     "text": [
      "Groupe ponctuel :  R-3m\n"
     ]
    }
   ],
   "source": [
    "#enfin, on trouve le groupe ponctuel\n",
    "spacegroup_analyzer = SpacegroupAnalyzer(conv_struc)\n",
    "point_group = spacegroup_analyzer.get_space_group_symbol()\n",
    "print(\"Groupe ponctuel : \", point_group)"
   ]
  }
 ],
 "metadata": {
  "kernelspec": {
   "display_name": "Python 3 (ipykernel)",
   "language": "python",
   "name": "python3"
  },
  "language_info": {
   "codemirror_mode": {
    "name": "ipython",
    "version": 3
   },
   "file_extension": ".py",
   "mimetype": "text/x-python",
   "name": "python",
   "nbconvert_exporter": "python",
   "pygments_lexer": "ipython3",
   "version": "3.9.13"
  }
 },
 "nbformat": 4,
 "nbformat_minor": 5
}
